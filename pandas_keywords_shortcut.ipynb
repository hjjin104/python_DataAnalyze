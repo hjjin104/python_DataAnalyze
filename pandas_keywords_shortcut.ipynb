{
 "cells": [
  {
   "cell_type": "code",
   "execution_count": 29,
   "metadata": {},
   "outputs": [
    {
     "name": "stdout",
     "output_type": "stream",
     "text": [
      "    Fruit   Color\n",
      "0   Apple     red\n",
      "1  Banana  yellow\n",
      "2  Orange  orange\n",
      "\n",
      "<class 'pandas.core.frame.DataFrame'>\n",
      "<class 'pandas.core.series.Series'>\n",
      "\n"
     ]
    },
    {
     "data": {
      "text/html": [
       "<div>\n",
       "<style scoped>\n",
       "    .dataframe tbody tr th:only-of-type {\n",
       "        vertical-align: middle;\n",
       "    }\n",
       "\n",
       "    .dataframe tbody tr th {\n",
       "        vertical-align: top;\n",
       "    }\n",
       "\n",
       "    .dataframe thead th {\n",
       "        text-align: right;\n",
       "    }\n",
       "</style>\n",
       "<table border=\"1\" class=\"dataframe\">\n",
       "  <thead>\n",
       "    <tr style=\"text-align: right;\">\n",
       "      <th></th>\n",
       "      <th>Fruit</th>\n",
       "      <th>Color</th>\n",
       "    </tr>\n",
       "  </thead>\n",
       "  <tbody>\n",
       "    <tr>\n",
       "      <th>0</th>\n",
       "      <td>APPLE</td>\n",
       "      <td>red</td>\n",
       "    </tr>\n",
       "    <tr>\n",
       "      <th>1</th>\n",
       "      <td>BANANA</td>\n",
       "      <td>yellow</td>\n",
       "    </tr>\n",
       "    <tr>\n",
       "      <th>2</th>\n",
       "      <td>ORANGE</td>\n",
       "      <td>orange</td>\n",
       "    </tr>\n",
       "  </tbody>\n",
       "</table>\n",
       "</div>"
      ],
      "text/plain": [
       "    Fruit   Color\n",
       "0   APPLE     red\n",
       "1  BANANA  yellow\n",
       "2  ORANGE  orange"
      ]
     },
     "execution_count": 29,
     "metadata": {},
     "output_type": "execute_result"
    }
   ],
   "source": [
    "import pandas as pd\n",
    "\n",
    "\n",
    "data = {\"Apple\": \"red\", \"Banana\":\"yellow\", \"Orange\":\"orange\"}\n",
    "\n",
    "df = pd.DataFrame({\"Fruit\":['Apple', 'Banana','Orange'],\n",
    "                   \"Color\": ['red', 'yellow', 'orange']})\n",
    "\n",
    "# df = pd.DataFrame(\n",
    "#     data = data, \n",
    "#     columns = ['a', 'b']\n",
    "#     )\n",
    "\n",
    "print(df)\n",
    "df.Fruit = df.Fruit.str.upper()\n",
    "df.head() #상위 몇개만 찾아보는 용도 \n",
    "\n",
    "\n",
    "\n",
    "print()\n",
    "print(type(df))\n",
    "print(type(df[\"Fruit\"]))\n",
    "print()\n",
    "\n",
    "\n",
    "\n",
    "# data_frame = pd.read_csv('data/frien_list.csv')\n",
    "# data_frame.head()\n"
   ]
  },
  {
   "cell_type": "code",
   "execution_count": null,
   "metadata": {},
   "outputs": [],
   "source": []
  }
 ],
 "metadata": {
  "interpreter": {
   "hash": "d6bb96a65894cda6597f0ebf1d20268e22ef304ddbef5f0b42d2c3beb03a1309"
  },
  "kernelspec": {
   "display_name": "Python 3.9.12 ('base')",
   "language": "python",
   "name": "python3"
  },
  "language_info": {
   "codemirror_mode": {
    "name": "ipython",
    "version": 3
   },
   "file_extension": ".py",
   "mimetype": "text/x-python",
   "name": "python",
   "nbconvert_exporter": "python",
   "pygments_lexer": "ipython3",
   "version": "3.9.12"
  },
  "orig_nbformat": 4
 },
 "nbformat": 4,
 "nbformat_minor": 2
}
